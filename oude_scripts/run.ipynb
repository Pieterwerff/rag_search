{
 "cells": [
  {
   "cell_type": "markdown",
   "metadata": {},
   "source": [
    "Naive RAG + ChatGPT gpt-4o-mini ( Dit prototype is in Pair programming gedaan door Pieter van der Werff & Jan Glazenborg)"
   ]
  },
  {
   "cell_type": "code",
   "execution_count": 1,
   "metadata": {},
   "outputs": [],
   "source": [
    "# ! pip install openai\n",
    "# ! pip install python-dotenv\n",
    "# ! pip install pymupdf4llm\n",
    "# ! pip install matplotlib\n",
    "# ! pip install chromadb\n",
    "# ! pip install llama-index\n",
    "# ! pip install llama-index-vector-stores-chroma\n",
    "\n",
    "from openai import OpenAI\n",
    "import os \n",
    "from dotenv import load_dotenv\n",
    "import pymupdf4llm\n",
    "import matplotlib.pyplot as plt\n",
    "import matplotlib.image as mpimg\n",
    "import chromadb\n",
    "from llama_index.vector_stores.chroma import ChromaVectorStore\n"
   ]
  },
  {
   "cell_type": "code",
   "execution_count": 2,
   "metadata": {},
   "outputs": [],
   "source": [
    "\n",
    "# Lezen document\n",
    "# documents = pymupdf4llm.to_markdown(\"Leidraad kwaliteit AI in de zorg NL.pdf\")\n",
    "md_text = open(\"leidraad.txt\")\n",
    "\n",
    "# Chunking regels\n",
    "chunk_size = 1000  # Size of each chunk\n",
    "overlap = 200      # Number of overlapping characters\n",
    "\n",
    "# API key en OpenAI laden\n",
    "load_dotenv()\n",
    "OpenAI.api_key = os.getenv('OPENAI_API_KEY')\n",
    "client = OpenAI()"
   ]
  },
  {
   "cell_type": "markdown",
   "metadata": {},
   "source": [
    "Laden document"
   ]
  },
  {
   "cell_type": "code",
   "execution_count": 3,
   "metadata": {},
   "outputs": [],
   "source": [
    "# --- Step 1: Load Document ---\n",
    "# Read the plain text file\n",
    "with open(\"leidraad.txt\", \"r\", encoding=\"ISO-8859-1\") as file:\n",
    "    document = file.read()  # Read content into a string"
   ]
  },
  {
   "cell_type": "markdown",
   "metadata": {},
   "source": [
    "ChromaDB aanmaken voor creeren vector database"
   ]
  },
  {
   "cell_type": "code",
   "execution_count": 4,
   "metadata": {},
   "outputs": [],
   "source": [
    "# --- Step 2: Store Text in ChromaDB ---\n",
    "# Initialize ChromaDB\n",
    "chroma_client = chromadb.Client()\n",
    "collection = chroma_client.create_collection(\"leidraad_ai_in_zorg\")"
   ]
  },
  {
   "cell_type": "markdown",
   "metadata": {},
   "source": [
    "Split in chunks"
   ]
  },
  {
   "cell_type": "code",
   "execution_count": 5,
   "metadata": {},
   "outputs": [],
   "source": [
    "\n",
    "chunks = [\n",
    "    document[i:i+chunk_size] \n",
    "    for i in range(0, len(document) - chunk_size + 1, chunk_size - overlap)\n",
    "]\n",
    "\n",
    "\n"
   ]
  },
  {
   "cell_type": "code",
   "execution_count": 6,
   "metadata": {},
   "outputs": [],
   "source": [
    "\n",
    "# Add chunks to ChromaDB\n",
    "for idx, chunk in enumerate(chunks):\n",
    "    collection.add(\n",
    "        ids=[str(idx)],\n",
    "        documents=[chunk]\n",
    "    )\n",
    "\n",
    "# Uncomment to print chunks for verification\n",
    "# for idx, chunk in enumerate(chunks):\n",
    "#     print(f\"Chunk {idx}:\\n{chunk}\\n{'-'*80}\")\n"
   ]
  },
  {
   "cell_type": "markdown",
   "metadata": {},
   "source": [
    "User query"
   ]
  },
  {
   "cell_type": "code",
   "execution_count": 7,
   "metadata": {},
   "outputs": [],
   "source": [
    "user_query = \"Waar staat AIPA voor?\""
   ]
  },
  {
   "cell_type": "markdown",
   "metadata": {},
   "source": [
    "Relevante chunks ophalen"
   ]
  },
  {
   "cell_type": "code",
   "execution_count": 8,
   "metadata": {},
   "outputs": [
    {
     "name": "stdout",
     "output_type": "stream",
     "text": [
      "n van risicos van het gebruik, inzetten en vergoeden van AIPAs. Ook bij een\n",
      "\n",
      "verwachte lage impact van het AIPA op de patiënt, cliënt of burger blijft goed professioneel\n",
      "\n",
      "handelen van belang, en blijven die delen van de leidraad die geen betrekking hebben op de\n",
      "\n",
      "rechten en plichten van eindgebruikers als leidraad voor goed professioneel handelen van\n",
      "\n",
      "toepassing. Dit is tenminste het geval als het AIPA geen deel uit gaat maken van een\n",
      "\n",
      "hulpmiddel.\n",
      "\n",
      "**Fasering**\n",
      "\n",
      "De leidraad is ingedeeld in zes fasen:\n",
      "\n",
      "   - Fase 1: Verzameling en beheer van de data\n",
      "\n",
      "   - Fase 2: Ontwikkeling van het AIPA\n",
      "\n",
      "   - Fase 3: Validatie van het AIPA\n",
      "\n",
      "   - Fase 4: Ontwikkeling van de benodigde software\n",
      "\n",
      "   - Fase 5: Effectbeoordeling van het AIPA in combinatie met de software\n",
      "\n",
      "   - Fase 6: Implementatie en gebruik van het AIPA met software in de dagelijkse praktijk.\n",
      "\n",
      "De daarin veronderstelde chronologie is niet bedoeld als dwingend, en past lang niet altijd op\n",
      "\n",
      "de feitelijke of meest efficiënte volgorde van hand\n"
     ]
    }
   ],
   "source": [
    "# Retrieve relevant chunks using Chroma\n",
    "results = collection.query(\n",
    "    query_texts=[user_query],\n",
    "    n_results=10\n",
    ")\n",
    "\n",
    "# Extract all top 10 relevant chunks\n",
    "retrieved_texts = [doc[0] for doc in results['documents']]  # Assuming 'documents' is a list of lists\n",
    "\n",
    "# Combine the texts into one string (optional)\n",
    "top_10_retrieved_text = \"\\n\".join(retrieved_texts)\n",
    "\n",
    "# Print all top 10 chunks\n",
    "print(top_10_retrieved_text)"
   ]
  },
  {
   "cell_type": "markdown",
   "metadata": {},
   "source": [
    "Vraag antwoord op basis van top chunks"
   ]
  },
  {
   "cell_type": "code",
   "execution_count": null,
   "metadata": {},
   "outputs": [
    {
     "name": "stdout",
     "output_type": "stream",
     "text": [
      "Vraag: Wat betekent AIPA?\n",
      "Antwoord: De afkorting AIPA staat niet specifiek gedefinieerd in de tekst die je hebt verstrekt. Maar in de context van de zorg en AI zou het kunnen staan voor \"Artificial Intelligence Powered Application\", een toepassing die door kunstmatige intelligentie wordt aangestuurd. Raadpleeg de originele leidraad voor een precieze definitie, omdat de betekenis van afkortingen kan variëren afhankelijk van de context.\n"
     ]
    }
   ],
   "source": [
    "response = client.chat.completions.create(\n",
    "    model=\"gpt-4o-mini\",\n",
    "    messages=[\n",
    "        {\"role\": \"system\", \"content\": f\"Je bent een assistent die vragen over de Leidraad AI in de zorg beantwoordt.\"},\n",
    "        {\"role\": \"user\", \"content\": f\"Baseer je antwoord op deze tekst: {top_10_retrieved_text}\\n\\n{user_query}\"}\n",
    "    ]\n",
    ")\n",
    "\n",
    "# --- Step 5: Output Result ---\n",
    "print(\"Vraag:\", user_query)\n",
    "print(\"Antwoord:\", response.choices[0].message.content)"
   ]
  }
 ],
 "metadata": {
  "kernelspec": {
   "display_name": "Python 3",
   "language": "python",
   "name": "python3"
  },
  "language_info": {
   "codemirror_mode": {
    "name": "ipython",
    "version": 3
   },
   "file_extension": ".py",
   "mimetype": "text/x-python",
   "name": "python",
   "nbconvert_exporter": "python",
   "pygments_lexer": "ipython3",
   "version": "3.10.4"
  }
 },
 "nbformat": 4,
 "nbformat_minor": 2
}
